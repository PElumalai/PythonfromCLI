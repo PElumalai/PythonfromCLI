{
 "cells": [
  {
   "cell_type": "code",
   "execution_count": 3,
   "metadata": {},
   "outputs": [
    {
     "name": "stdout",
     "output_type": "stream",
     "text": [
      "Requirement already satisfied: pylint in c:\\users\\user\\anaconda3\\lib\\site-packages (2.2.2)\n",
      "Requirement already satisfied: astroid>=2.0.0 in c:\\users\\user\\anaconda3\\lib\\site-packages (from pylint) (2.1.0)\n",
      "Requirement already satisfied: isort>=4.2.5 in c:\\users\\user\\anaconda3\\lib\\site-packages (from pylint) (4.3.4)\n",
      "Requirement already satisfied: mccabe in c:\\users\\user\\anaconda3\\lib\\site-packages (from pylint) (0.6.1)\n",
      "Requirement already satisfied: colorama in c:\\users\\user\\anaconda3\\lib\\site-packages (from pylint) (0.4.1)\n",
      "Requirement already satisfied: wrapt in c:\\users\\user\\anaconda3\\lib\\site-packages (from astroid>=2.0.0->pylint) (1.10.11)\n",
      "Requirement already satisfied: lazy-object-proxy in c:\\users\\user\\anaconda3\\lib\\site-packages (from astroid>=2.0.0->pylint) (1.3.1)\n",
      "Requirement already satisfied: six in c:\\users\\user\\anaconda3\\lib\\site-packages (from astroid>=2.0.0->pylint) (1.12.0)\n"
     ]
    }
   ],
   "source": [
    "! pip install pylint"
   ]
  },
  {
   "cell_type": "code",
   "execution_count": 19,
   "metadata": {},
   "outputs": [
    {
     "name": "stdout",
     "output_type": "stream",
     "text": [
      "Overwriting sample.py\n"
     ]
    }
   ],
   "source": [
    "%%writefile sample.py\n",
    "\"\"\"Python program to validate in pylint\"\"\"\n",
    "A = 1\n",
    "B = 2\n",
    "print(A)\n",
    "print(B)"
   ]
  },
  {
   "cell_type": "code",
   "execution_count": 20,
   "metadata": {},
   "outputs": [
    {
     "name": "stdout",
     "output_type": "stream",
     "text": [
      "\n",
      "--------------------------------------------------------------------\n",
      "\n",
      "Your code has been rated at 10.00/10 (previous run: 10.00/10, +0.00)\n",
      "\n",
      "\n",
      "\n"
     ]
    }
   ],
   "source": [
    "! pylint sample.py"
   ]
  },
  {
   "cell_type": "code",
   "execution_count": 30,
   "metadata": {},
   "outputs": [
    {
     "name": "stdout",
     "output_type": "stream",
     "text": [
      "Overwriting sample.py\n"
     ]
    }
   ],
   "source": [
    "%%writefile sample.py\n",
    "\"\"\"Python Program using function\"\"\"\n",
    "def myfun():\n",
    "    \"\"\"Inside funtion\"\"\"\n",
    "    firstname = \"Vinay\"\n",
    "    secondname = \"Yash\"\n",
    "    print(firstname)\n",
    "    print(secondname)\n",
    "myfun()"
   ]
  },
  {
   "cell_type": "code",
   "execution_count": 32,
   "metadata": {},
   "outputs": [
    {
     "name": "stdout",
     "output_type": "stream",
     "text": [
      "\n",
      "--------------------------------------------------------------------\n",
      "\n",
      "Your code has been rated at 10.00/10 (previous run: 10.00/10, +0.00)\n",
      "\n",
      "\n",
      "\n"
     ]
    }
   ],
   "source": [
    "! pylint sample.py"
   ]
  },
  {
   "cell_type": "markdown",
   "metadata": {},
   "source": [
    "# Unit Test"
   ]
  },
  {
   "cell_type": "code",
   "execution_count": null,
   "metadata": {},
   "outputs": [],
   "source": [
    "# To verify first letter in a word is capital or not"
   ]
  },
  {
   "cell_type": "code",
   "execution_count": 91,
   "metadata": {},
   "outputs": [
    {
     "name": "stdout",
     "output_type": "stream",
     "text": [
      "Overwriting fcs.py\n"
     ]
    }
   ],
   "source": [
    "%%writefile fcs.py\n",
    "def fcs_text(text):\n",
    "    return text.title()"
   ]
  },
  {
   "cell_type": "code",
   "execution_count": 92,
   "metadata": {},
   "outputs": [
    {
     "name": "stdout",
     "output_type": "stream",
     "text": [
      "Overwriting test_fcs.py\n"
     ]
    }
   ],
   "source": [
    "%%writefile test_fcs.py\n",
    "import unittest\n",
    "import fcs\n",
    "\n",
    "class TestFcs(unittest.TestCase):\n",
    "    \n",
    "    def test_one_word(self):\n",
    "        text = 'vinay'\n",
    "        result = fcs.fcs_text(text)\n",
    "        self.assertEqual(result, 'Vinay')\n",
    "        \n",
    "    def test_multiple_words(self):\n",
    "        text = 'akash cibi yashwant'\n",
    "        result = fcs.fcs_text(text)\n",
    "        self.assertEqual(result, 'Akash Cibi Yashwant')\n",
    "\n",
    "if __name__ == '__main__':\n",
    "    unittest.main()\n",
    "    "
   ]
  },
  {
   "cell_type": "code",
   "execution_count": 93,
   "metadata": {},
   "outputs": [
    {
     "name": "stderr",
     "output_type": "stream",
     "text": [
      "..\n",
      "----------------------------------------------------------------------\n",
      "Ran 2 tests in 0.000s\n",
      "\n",
      "OK\n"
     ]
    }
   ],
   "source": [
    "! python test_fcs.py"
   ]
  },
  {
   "cell_type": "markdown",
   "metadata": {},
   "source": [
    "# Assignment in Error handling"
   ]
  },
  {
   "cell_type": "code",
   "execution_count": null,
   "metadata": {},
   "outputs": [],
   "source": [
    "# handle the exceptions thrown by the code"
   ]
  },
  {
   "cell_type": "code",
   "execution_count": 4,
   "metadata": {},
   "outputs": [
    {
     "name": "stdout",
     "output_type": "stream",
     "text": [
      "Exception is  unsupported operand type(s) for ** or pow(): 'str' and 'int'\n",
      "This will always print\n"
     ]
    }
   ],
   "source": [
    "try:\n",
    "    for i in ['a','b','c']:\n",
    "        print(i**2)\n",
    "except Exception as e:\n",
    "    print(\"Exception is \",e)\n",
    "finally:\n",
    "    print(\"This will always print\")"
   ]
  },
  {
   "cell_type": "code",
   "execution_count": null,
   "metadata": {},
   "outputs": [],
   "source": []
  }
 ],
 "metadata": {
  "kernelspec": {
   "display_name": "Python 3",
   "language": "python",
   "name": "python3"
  },
  "language_info": {
   "codemirror_mode": {
    "name": "ipython",
    "version": 3
   },
   "file_extension": ".py",
   "mimetype": "text/x-python",
   "name": "python",
   "nbconvert_exporter": "python",
   "pygments_lexer": "ipython3",
   "version": "3.7.1"
  }
 },
 "nbformat": 4,
 "nbformat_minor": 2
}
