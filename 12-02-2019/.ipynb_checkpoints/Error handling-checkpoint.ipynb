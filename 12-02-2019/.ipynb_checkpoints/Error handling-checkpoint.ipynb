{
 "cells": [
  {
   "cell_type": "code",
   "execution_count": 6,
   "metadata": {},
   "outputs": [
    {
     "name": "stdout",
     "output_type": "stream",
     "text": [
      "Capturing IO Error\n",
      "This condition is always executed\n"
     ]
    }
   ],
   "source": [
    "try:\n",
    "    f=open('testfile.txt','r')\n",
    "    f.write(\"write operations\")\n",
    "    f.close()\n",
    "    0/0   \n",
    "    \n",
    "except IOError:\n",
    "    print(\"Capturing IO Error\")\n",
    "except Exception as e:\n",
    "    print(\"Capturing all types of error except IO error\",e)\n",
    "finally:\n",
    "    print(\"This condition is always executed\")"
   ]
  },
  {
   "cell_type": "code",
   "execution_count": null,
   "metadata": {},
   "outputs": [],
   "source": []
  }
 ],
 "metadata": {
  "kernelspec": {
   "display_name": "Python 3",
   "language": "python",
   "name": "python3"
  },
  "language_info": {
   "codemirror_mode": {
    "name": "ipython",
    "version": 3
   },
   "file_extension": ".py",
   "mimetype": "text/x-python",
   "name": "python",
   "nbconvert_exporter": "python",
   "pygments_lexer": "ipython3",
   "version": "3.7.1"
  }
 },
 "nbformat": 4,
 "nbformat_minor": 2
}
