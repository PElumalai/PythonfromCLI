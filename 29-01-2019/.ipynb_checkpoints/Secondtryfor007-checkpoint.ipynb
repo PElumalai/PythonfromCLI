{
 "cells": [
  {
   "cell_type": "code",
   "execution_count": 14,
   "metadata": {},
   "outputs": [],
   "source": [
    "def myfunc(param):\n",
    "    for i in param:\n",
    "        if i==0 or i==7:\n",
    "            strng=''\n",
    "            strng+=str(i)\n",
    "    if strng==\"007\":\n",
    "        print(\"HOLA\")\n",
    "    else:\n",
    "        print(\"NOPE\")"
   ]
  },
  {
   "cell_type": "code",
   "execution_count": 15,
   "metadata": {},
   "outputs": [
    {
     "name": "stdout",
     "output_type": "stream",
     "text": [
      "NOPE\n"
     ]
    }
   ],
   "source": [
    "holalist=[0,5,6,4,0,2,3,7]\n",
    "nopelist=[1,2,0,4,7,6,0,1]\n",
    "myfunc(holalist)"
   ]
  },
  {
   "cell_type": "code",
   "execution_count": null,
   "metadata": {},
   "outputs": [],
   "source": []
  }
 ],
 "metadata": {
  "kernelspec": {
   "display_name": "Python 3",
   "language": "python",
   "name": "python3"
  },
  "language_info": {
   "codemirror_mode": {
    "name": "ipython",
    "version": 3
   },
   "file_extension": ".py",
   "mimetype": "text/x-python",
   "name": "python",
   "nbconvert_exporter": "python",
   "pygments_lexer": "ipython3",
   "version": "3.7.1"
  }
 },
 "nbformat": 4,
 "nbformat_minor": 2
}
