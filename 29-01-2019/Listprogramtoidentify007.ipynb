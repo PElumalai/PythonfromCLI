{
 "cells": [
  {
   "cell_type": "markdown",
   "metadata": {},
   "source": [
    "# Write a program to identify [0,0,7] in the given list in the same order, if yes print \"HOLA\" if no then print \"NOPE\""
   ]
  },
  {
   "cell_type": "code",
   "execution_count": 16,
   "metadata": {},
   "outputs": [],
   "source": [
    "def myfunc(param):\n",
    "    finalStr = \"\";\n",
    "    for ind in param:\n",
    "        if ind in [0,0,7]:\n",
    "            finalStr += str(ind)\n",
    "    if finalStr==\"007\":\n",
    "        print(\"HOLA\")\n",
    "    else:\n",
    "        print(\"NOPE\")\n",
    "   "
   ]
  },
  {
   "cell_type": "code",
   "execution_count": 17,
   "metadata": {},
   "outputs": [
    {
     "name": "stdout",
     "output_type": "stream",
     "text": [
      "HOLA\n"
     ]
    }
   ],
   "source": [
    "mylist=[0,5,6,4,0,2,3,7]\n",
    "alist=[0,5,6,7,0,2,3,6]\n",
    "myfunc(mylist)"
   ]
  },
  {
   "cell_type": "code",
   "execution_count": null,
   "metadata": {},
   "outputs": [],
   "source": []
  }
 ],
 "metadata": {
  "kernelspec": {
   "display_name": "Python 3",
   "language": "python",
   "name": "python3"
  },
  "language_info": {
   "codemirror_mode": {
    "name": "ipython",
    "version": 3
   },
   "file_extension": ".py",
   "mimetype": "text/x-python",
   "name": "python",
   "nbconvert_exporter": "python",
   "pygments_lexer": "ipython3",
   "version": "3.7.1"
  }
 },
 "nbformat": 4,
 "nbformat_minor": 2
}
