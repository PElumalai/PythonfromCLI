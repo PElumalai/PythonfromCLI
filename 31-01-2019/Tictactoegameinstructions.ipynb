{
 "cells": [
  {
   "cell_type": "markdown",
   "metadata": {},
   "source": [
    "# Tic Tac Toe Game instructions"
   ]
  },
  {
   "cell_type": "code",
   "execution_count": 1,
   "metadata": {},
   "outputs": [],
   "source": [
    "# Two markers, two players. Each player will play consecutively"
   ]
  },
  {
   "cell_type": "code",
   "execution_count": 2,
   "metadata": {},
   "outputs": [],
   "source": [
    "# Who will play first?"
   ]
  },
  {
   "cell_type": "code",
   "execution_count": 3,
   "metadata": {},
   "outputs": [],
   "source": [
    "#1. Win condition\n",
    "#2. Tie condition\n",
    "#3. loss condition\n",
    "#4. ongoing"
   ]
  },
  {
   "cell_type": "code",
   "execution_count": 4,
   "metadata": {},
   "outputs": [],
   "source": [
    "# 8 chances a person can win (1,2,3) (4,5,6) (7,8,9) (1,4,7) (2,5,8) (3,6,9) (1,5,9) (3,5,7)"
   ]
  },
  {
   "cell_type": "code",
   "execution_count": 5,
   "metadata": {},
   "outputs": [],
   "source": [
    "# Is board is full?"
   ]
  },
  {
   "cell_type": "code",
   "execution_count": 6,
   "metadata": {},
   "outputs": [],
   "source": [
    "# Toss, who will start first?"
   ]
  },
  {
   "cell_type": "code",
   "execution_count": 2,
   "metadata": {},
   "outputs": [],
   "source": [
    "board=['']*10"
   ]
  },
  {
   "cell_type": "code",
   "execution_count": 3,
   "metadata": {},
   "outputs": [],
   "source": [
    "from IPython.display import clear_output\n",
    "def display_board():\n",
    "    print(\"  \"+str(board[6])+\" | \"+str(board[7])+\"  | \"+str(board[8]))\n",
    "    print(\"-----------\")\n",
    "    print(\"  \"+str(board[3])+\" | \"+str(board[4])+\"  | \"+str(board[5]))\n",
    "    print(\"-----------\")\n",
    "    print(\"  \"+str(board[0])+\" | \"+str(board[1])+\"  | \"+str(board[2]))"
   ]
  },
  {
   "cell_type": "code",
   "execution_count": 4,
   "metadata": {},
   "outputs": [
    {
     "name": "stdout",
     "output_type": "stream",
     "text": [
      "   |   | \n",
      "-----------\n",
      "   |   | \n",
      "-----------\n",
      "   |   | \n"
     ]
    }
   ],
   "source": [
    "display_board()"
   ]
  },
  {
   "cell_type": "code",
   "execution_count": 5,
   "metadata": {},
   "outputs": [],
   "source": [
    "def player_input():\n",
    "    marker=''\n",
    "    while not (marker =='X' or marker=='0'):\n",
    "        marker=input('Player one: Please enter your marker X or 0').upper()\n",
    "    if marker=='X':\n",
    "        return('X','0')\n",
    "    else:\n",
    "        return('0','X')"
   ]
  },
  {
   "cell_type": "code",
   "execution_count": 6,
   "metadata": {},
   "outputs": [
    {
     "name": "stdout",
     "output_type": "stream",
     "text": [
      "Player one: Please enter your marker X or 0X\n"
     ]
    },
    {
     "data": {
      "text/plain": [
       "('X', '0')"
      ]
     },
     "execution_count": 6,
     "metadata": {},
     "output_type": "execute_result"
    }
   ],
   "source": [
    "player_input()"
   ]
  },
  {
   "cell_type": "code",
   "execution_count": 7,
   "metadata": {},
   "outputs": [],
   "source": [
    "tboard=['']*10"
   ]
  },
  {
   "cell_type": "code",
   "execution_count": 8,
   "metadata": {},
   "outputs": [],
   "source": [
    "def place_marker(board, marker, position):\n",
    "    board[position]=marker"
   ]
  },
  {
   "cell_type": "code",
   "execution_count": 11,
   "metadata": {
    "scrolled": true
   },
   "outputs": [],
   "source": [
    "place_marker(board, \"0\", 4)"
   ]
  },
  {
   "cell_type": "code",
   "execution_count": 12,
   "metadata": {},
   "outputs": [
    {
     "name": "stdout",
     "output_type": "stream",
     "text": [
      "   |   | \n",
      "-----------\n",
      "  o | 0  | \n",
      "-----------\n",
      "   |   | \n"
     ]
    }
   ],
   "source": [
    "display_board()"
   ]
  },
  {
   "cell_type": "code",
   "execution_count": 13,
   "metadata": {},
   "outputs": [],
   "source": [
    "def win_check(board,mark):\n",
    "    return ((board[7]==mark and board[8]==mark and board[9]==mark)or \n",
    "            (board[4]==mark and board[5]==mark and board[6]==mark)or\n",
    "            (board[1]==mark and board[2]==mark and board[3]==mark)or\n",
    "            (board[1]==mark and board[4]==mark and board[7]==mark)or \n",
    "            (board[2]==mark and board[5]==mark and board[8]==mark)or \n",
    "            (board[3]==mark and board[6]==mark and board[9]==mark)or \n",
    "            (board[1]==mark and board[5]==mark and board[9]==mark)or \n",
    "            (board[3]==mark and board[5]==mark and board[7]==mark))\n",
    "    "
   ]
  },
  {
   "cell_type": "code",
   "execution_count": 14,
   "metadata": {},
   "outputs": [
    {
     "data": {
      "text/plain": [
       "False"
      ]
     },
     "execution_count": 14,
     "metadata": {},
     "output_type": "execute_result"
    }
   ],
   "source": [
    "win_check(tboard,'X')"
   ]
  },
  {
   "cell_type": "markdown",
   "metadata": {},
   "source": [
    "# Assign First player randomly"
   ]
  },
  {
   "cell_type": "code",
   "execution_count": 15,
   "metadata": {},
   "outputs": [
    {
     "name": "stdout",
     "output_type": "stream",
     "text": [
      "player 1  Hey Go Now !\n"
     ]
    }
   ],
   "source": [
    "import random\n",
    "players = ['player 1','player 2']\n",
    "def playerstart():\n",
    "    print(players[random.randint(0,1)],\" Hey Go Now !\")\n",
    "\n",
    "playerstart()"
   ]
  },
  {
   "cell_type": "code",
   "execution_count": 16,
   "metadata": {},
   "outputs": [],
   "source": [
    "def empty_block(board, position):\n",
    "    board[position]=''\n",
    "    return True"
   ]
  },
  {
   "cell_type": "code",
   "execution_count": 17,
   "metadata": {},
   "outputs": [
    {
     "data": {
      "text/plain": [
       "True"
      ]
     },
     "execution_count": 17,
     "metadata": {},
     "output_type": "execute_result"
    }
   ],
   "source": [
    "empty_block(board, 5)"
   ]
  },
  {
   "cell_type": "code",
   "execution_count": 18,
   "metadata": {},
   "outputs": [],
   "source": [
    "sboard=['X','0','X','0','X','0','X','0','X','0']"
   ]
  },
  {
   "cell_type": "code",
   "execution_count": 19,
   "metadata": {},
   "outputs": [],
   "source": [
    "def checkboardfull(board):\n",
    "    return '' in board"
   ]
  },
  {
   "cell_type": "code",
   "execution_count": 20,
   "metadata": {},
   "outputs": [
    {
     "data": {
      "text/plain": [
       "True"
      ]
     },
     "execution_count": 20,
     "metadata": {},
     "output_type": "execute_result"
    }
   ],
   "source": [
    "checkboardfull(board)"
   ]
  },
  {
   "cell_type": "code",
   "execution_count": 21,
   "metadata": {},
   "outputs": [],
   "source": [
    "newboard=['']*10"
   ]
  },
  {
   "cell_type": "markdown",
   "metadata": {},
   "source": [
    "# Step 8: Write a function that asks for a player's next position (as a number 1-9) and then uses the function from step 6 to check if its a free position. If it is , then return the position for later use."
   ]
  },
  {
   "cell_type": "code",
   "execution_count": 22,
   "metadata": {},
   "outputs": [
    {
     "name": "stdout",
     "output_type": "stream",
     "text": [
      "Enter your next position:1\n"
     ]
    },
    {
     "data": {
      "text/plain": [
       "1"
      ]
     },
     "execution_count": 22,
     "metadata": {},
     "output_type": "execute_result"
    }
   ],
   "source": [
    "def anyempty_position(board, position):\n",
    "    #try():\n",
    "    while position not in mylist:\n",
    "        position=int(input(\"Enter your next position:\"))\n",
    "       \n",
    "    if position in mylist:\n",
    "        if board[position]=='':\n",
    "            return position\n",
    "            \n",
    "    else:\n",
    "        return False\n",
    "        \n",
    "mylist=[1,2,3,4,5,6,7,8,9]\n",
    "num=int(input(\"Enter your next position:\"))\n",
    "anyempty_position(board, num)"
   ]
  },
  {
   "cell_type": "markdown",
   "metadata": {},
   "source": [
    "# Step 9: Write a function that asks the player if they want to play again and returns a boolean True if they do want to play again."
   ]
  },
  {
   "cell_type": "code",
   "execution_count": 23,
   "metadata": {},
   "outputs": [
    {
     "name": "stdout",
     "output_type": "stream",
     "text": [
      "Do you want to play again, input Yes or No:Yes\n"
     ]
    },
    {
     "data": {
      "text/plain": [
       "True"
      ]
     },
     "execution_count": 23,
     "metadata": {},
     "output_type": "execute_result"
    }
   ],
   "source": [
    "def play_again():\n",
    "    return input(\"Do you want to play again, input Yes or No:\").upper().startswith('Y')\n",
    "    \n",
    "play_again()"
   ]
  },
  {
   "cell_type": "markdown",
   "metadata": {},
   "source": []
  },
  {
   "cell_type": "markdown",
   "metadata": {},
   "source": [
    "# Final Assembly"
   ]
  },
  {
   "cell_type": "code",
   "execution_count": null,
   "metadata": {},
   "outputs": [
    {
     "name": "stdout",
     "output_type": "stream",
     "text": [
      "Welcome to TIC TAC TOE Game\n",
      "Player one: Please enter your marker X or 0X\n",
      "player 2  Hey Go Now !\n",
      "Are you ready ? Enter Yes or NoYes\n"
     ]
    }
   ],
   "source": [
    "print(\"Welcome to TIC TAC TOE Game\")\n",
    "\n",
    "while True:\n",
    "    newBoard=['']*10\n",
    "    player1_marker,player2_marker=player_input()\n",
    "    turn=playerstart()\n",
    "    #print (turn+ \"Will Go First in Tic Tac Toe\")\n",
    "    \n",
    "    play_game=input('Are you ready ? Enter Yes or No')\n",
    "    \n",
    "    if play_game.lower()=='y':\n",
    "        game_on=True\n",
    "    else:\n",
    "        game_on=False\n",
    "        \n",
    "    while game_on:\n",
    "        if turn =='Player 1':\n",
    "            display_board(newBoard)\n",
    "            postion = anyempty_position(newBoard)\n",
    "            place_marker(newBoard, player1_marker, position)\n",
    "            \n",
    "            if win_check(newBoard, player1_marker):\n",
    "                display_board(newBoard)\n",
    "                print(\"Congratulations! You have Won the game!\")\n",
    "                game_on=false\n",
    "            else:\n",
    "                if checkboardfull(newBoard):\n",
    "                    display_board(newBoard)\n",
    "                    print(\"It's a Tie\")\n",
    "                    break\n",
    "                else:\n",
    "                    turn=\"Player 2\"\n",
    "        else:\n",
    "            display_board(newBoard)\n",
    "            postion = anyempty_position(newBoard)\n",
    "            place_marker(newBoard, player2_marker, position)\n",
    "            \n",
    "            if win_check(newBoard, player2_marker):\n",
    "                display_board(newBoard)\n",
    "                print(\"Player 2 Won the game!\")\n",
    "                game_on=false\n",
    "            else:\n",
    "                if checkboardfull(newBoard):\n",
    "                    display_board(newBoard)\n",
    "                    print(\"It's a Tie\")\n",
    "                    break\n",
    "                else:\n",
    "                    turn=\"Player 1\"\n",
    "        if not play_again():\n",
    "            break\n",
    "        \n",
    "            "
   ]
  },
  {
   "cell_type": "code",
   "execution_count": null,
   "metadata": {},
   "outputs": [],
   "source": []
  }
 ],
 "metadata": {
  "kernelspec": {
   "display_name": "Python 3",
   "language": "python",
   "name": "python3"
  },
  "language_info": {
   "codemirror_mode": {
    "name": "ipython",
    "version": 3
   },
   "file_extension": ".py",
   "mimetype": "text/x-python",
   "name": "python",
   "nbconvert_exporter": "python",
   "pygments_lexer": "ipython3",
   "version": "3.7.1"
  }
 },
 "nbformat": 4,
 "nbformat_minor": 2
}
