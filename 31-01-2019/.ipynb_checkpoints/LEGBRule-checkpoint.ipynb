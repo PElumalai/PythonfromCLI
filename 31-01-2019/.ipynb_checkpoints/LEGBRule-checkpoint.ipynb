{
 "cells": [
  {
   "cell_type": "markdown",
   "metadata": {},
   "source": [
    "# LEGB Rule"
   ]
  },
  {
   "cell_type": "code",
   "execution_count": 5,
   "metadata": {},
   "outputs": [],
   "source": [
    "name =\"Sai\""
   ]
  },
  {
   "cell_type": "code",
   "execution_count": 6,
   "metadata": {},
   "outputs": [],
   "source": [
    "def myFunc():\n",
    "    #name=\"yash\"\n",
    "    #global name\n",
    "    print(name)"
   ]
  },
  {
   "cell_type": "code",
   "execution_count": 7,
   "metadata": {},
   "outputs": [
    {
     "name": "stdout",
     "output_type": "stream",
     "text": [
      "The \"global\" statement\n",
      "**********************\n",
      "\n",
      "   global_stmt ::= \"global\" identifier (\",\" identifier)*\n",
      "\n",
      "The \"global\" statement is a declaration which holds for the entire\n",
      "current code block.  It means that the listed identifiers are to be\n",
      "interpreted as globals.  It would be impossible to assign to a global\n",
      "variable without \"global\", although free variables may refer to\n",
      "globals without being declared global.\n",
      "\n",
      "Names listed in a \"global\" statement must not be used in the same code\n",
      "block textually preceding that \"global\" statement.\n",
      "\n",
      "Names listed in a \"global\" statement must not be defined as formal\n",
      "parameters or in a \"for\" loop control target, \"class\" definition,\n",
      "function definition, \"import\" statement, or variable annotation.\n",
      "\n",
      "**CPython implementation detail:** The current implementation does not\n",
      "enforce some of these restrictions, but programs should not abuse this\n",
      "freedom, as future implementations may enforce them or silently change\n",
      "the meaning of the program.\n",
      "\n",
      "**Programmer’s note:** \"global\" is a directive to the parser.  It\n",
      "applies only to code parsed at the same time as the \"global\"\n",
      "statement. In particular, a \"global\" statement contained in a string\n",
      "or code object supplied to the built-in \"exec()\" function does not\n",
      "affect the code block *containing* the function call, and code\n",
      "contained in such a string is unaffected by \"global\" statements in the\n",
      "code containing the function call.  The same applies to the \"eval()\"\n",
      "and \"compile()\" functions.\n",
      "\n",
      "Related help topics: nonlocal, NAMESPACES\n",
      "\n"
     ]
    }
   ],
   "source": [
    "help(\"global\")"
   ]
  },
  {
   "cell_type": "code",
   "execution_count": 11,
   "metadata": {},
   "outputs": [
    {
     "name": "stdout",
     "output_type": "stream",
     "text": [
      "didn't work\n"
     ]
    }
   ],
   "source": [
    "x = 10\n",
    "def globallyChange():\n",
    "      global x\n",
    "      x = \"didn't work\"\n",
    "globallyChange() #You've to call the function for changes.\n",
    "print(x)"
   ]
  },
  {
   "cell_type": "code",
   "execution_count": 12,
   "metadata": {},
   "outputs": [
    {
     "name": "stdout",
     "output_type": "stream",
     "text": [
      "10\n",
      "works\n"
     ]
    }
   ],
   "source": [
    "x = 10\n",
    "def changeme():\n",
    "    global x\n",
    "    x = \"works\"\n",
    "print(x)\n",
    "changeme()\n",
    "print(x)"
   ]
  },
  {
   "cell_type": "code",
   "execution_count": 13,
   "metadata": {},
   "outputs": [
    {
     "name": "stdout",
     "output_type": "stream",
     "text": [
      "didn't work\n"
     ]
    }
   ],
   "source": [
    "def globally_change():\n",
    "    return \"didn't work\"\n",
    "x = 10\n",
    "x = globally_change()\n",
    "print(x)"
   ]
  },
  {
   "cell_type": "code",
   "execution_count": null,
   "metadata": {},
   "outputs": [],
   "source": []
  }
 ],
 "metadata": {
  "kernelspec": {
   "display_name": "Python 3",
   "language": "python",
   "name": "python3"
  },
  "language_info": {
   "codemirror_mode": {
    "name": "ipython",
    "version": 3
   },
   "file_extension": ".py",
   "mimetype": "text/x-python",
   "name": "python",
   "nbconvert_exporter": "python",
   "pygments_lexer": "ipython3",
   "version": "3.7.1"
  }
 },
 "nbformat": 4,
 "nbformat_minor": 2
}
