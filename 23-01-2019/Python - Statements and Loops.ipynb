{
 "cells": [
  {
   "cell_type": "markdown",
   "metadata": {},
   "source": [
    "# Usage of If elif else statements in python"
   ]
  },
  {
   "cell_type": "code",
   "execution_count": null,
   "metadata": {},
   "outputs": [],
   "source": [
    "num=6\n",
    "if num<2:\n",
    "    print(\"I am in if statement\")\n",
    "else:\n",
    "    print(\"I am in else statements\")"
   ]
  },
  {
   "cell_type": "markdown",
   "metadata": {},
   "source": [
    "# for Loop"
   ]
  },
  {
   "cell_type": "code",
   "execution_count": null,
   "metadata": {},
   "outputs": [],
   "source": [
    "_list=[1,2,3,4,5,6,7,8,9,10,11,12,13,\"Hello\",14,15]\n",
    "for i in _list:\n",
    "    if i!=15:\n",
    "        print(i,end=\",\")\n",
    "    else:\n",
    "        print(i)"
   ]
  },
  {
   "cell_type": "code",
   "execution_count": null,
   "metadata": {},
   "outputs": [],
   "source": [
    "namelist=[\"Elu\",\"Sarvanan\",\"Sai\",\"Selvam\",\"Akash\"]\n",
    "for i in namelist:\n",
    "    print(i)"
   ]
  },
  {
   "cell_type": "code",
   "execution_count": null,
   "metadata": {},
   "outputs": [],
   "source": [
    "_list=[1,2,3,4,5,6,7,8,9,10,11,12,13,14,15]\n",
    "for i in _list:\n",
    "    if i%2==0:\n",
    "        print(f\"The number {i} is even\")\n",
    "#    else:\n",
    "#       print(\"Odd NUmber:\",i)"
   ]
  },
  {
   "cell_type": "code",
   "execution_count": null,
   "metadata": {},
   "outputs": [],
   "source": [
    "_list=[1,2,3,4,5,6,7,8,9,10,11,12,13,14,15]\n",
    "for i in _list:\n",
    "    if i%2==0:\n",
    "        print(\"The number {} is even\".format(i))\n",
    "#    else:\n",
    "#       print(\"Odd NUmber:\",i)"
   ]
  },
  {
   "cell_type": "code",
   "execution_count": null,
   "metadata": {},
   "outputs": [],
   "source": [
    "for i in range(11):\n",
    "    if i%2==0:\n",
    "        print(\"The number {} is even\".format(i))\n",
    "    "
   ]
  },
  {
   "cell_type": "code",
   "execution_count": 1,
   "metadata": {},
   "outputs": [
    {
     "name": "stdout",
     "output_type": "stream",
     "text": [
      "Loop0\n",
      "Loop1\n",
      "Loop2\n",
      "Loop3\n",
      "Loop4\n"
     ]
    }
   ],
   "source": [
    "x=0\n",
    "while x<5:\n",
    "    print(f\"Loop{x}\")\n",
    "    x+=1"
   ]
  },
  {
   "cell_type": "code",
   "execution_count": null,
   "metadata": {},
   "outputs": [],
   "source": []
  }
 ],
 "metadata": {
  "kernelspec": {
   "display_name": "Python 3",
   "language": "python",
   "name": "python3"
  },
  "language_info": {
   "codemirror_mode": {
    "name": "ipython",
    "version": 3
   },
   "file_extension": ".py",
   "mimetype": "text/x-python",
   "name": "python",
   "nbconvert_exporter": "python",
   "pygments_lexer": "ipython3",
   "version": "3.7.1"
  }
 },
 "nbformat": 4,
 "nbformat_minor": 2
}
